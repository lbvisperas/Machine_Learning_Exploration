{
  "nbformat": 4,
  "nbformat_minor": 0,
  "metadata": {
    "colab": {
      "name": "HW3_Q3_VisperasLianne.ipynb",
      "provenance": [],
      "collapsed_sections": [],
      "toc_visible": true,
      "machine_shape": "hm"
    },
    "kernelspec": {
      "name": "python3",
      "display_name": "Python 3"
    },
    "accelerator": "GPU"
  },
  "cells": [
    {
      "cell_type": "markdown",
      "metadata": {
        "id": "qvvDmny7krHu",
        "colab_type": "text"
      },
      "source": [
        "##Dataset properties##\n",
        "\n",
        "Total number of images: 82213.\n",
        "\n",
        "Training set size: 61488 images (one fruit or vegetable per image).\n",
        "\n",
        "Test set size: 20622 images (one fruit or vegetable per image).\n",
        "\n",
        "Multi-fruits set size: 103 images (more than one fruit (or fruit class) per image)\n",
        "\n",
        "Number of classes: 120 (fruits and vegetables).\n",
        "\n",
        "Image size: 100x100 pixels.\n",
        "\n",
        "Filename format: image_index_100.jpg (e.g. 32_100.jpg) or r_image_index_100.jpg (e.g. r_32_100.jpg) or r2_image_index_100.jpg or r3_image_index_100.jpg. \"r\" stands for rotated fruit. \"r2\" means that the fruit was rotated around the 3rd axis. \"100\" comes from image size (100x100 pixels).\n",
        "\n",
        "Different varieties of the same fruit (apple for instance) are stored as belonging to different classes."
      ]
    },
    {
      "cell_type": "markdown",
      "metadata": {
        "id": "3EAl1LXTeWgN",
        "colab_type": "text"
      },
      "source": [
        "## Fruits 360 with Transfer Learning ##"
      ]
    },
    {
      "cell_type": "markdown",
      "metadata": {
        "id": "6D-R2LaalbVC",
        "colab_type": "text"
      },
      "source": [
        "#### Loading the Data Set ####"
      ]
    },
    {
      "cell_type": "code",
      "metadata": {
        "id": "xgThiOLl9WIL",
        "colab_type": "code",
        "outputId": "62578c25-fc9d-4385-ed1d-6344906f231b",
        "colab": {
          "base_uri": "https://localhost:8080/",
          "height": 159
        }
      },
      "source": [
        "!git clone https://github.com/Horea94/Fruit-Images-Dataset.git\n",
        "!ls\n",
        "!cd Fruit-Images-Dataset\n",
        "!ls"
      ],
      "execution_count": 0,
      "outputs": [
        {
          "output_type": "stream",
          "text": [
            "Cloning into 'Fruit-Images-Dataset'...\n",
            "remote: Enumerating objects: 377165, done.\u001b[K\n",
            "remote: Total 377165 (delta 0), reused 0 (delta 0), pack-reused 377165\u001b[K\n",
            "Receiving objects: 100% (377165/377165), 2.06 GiB | 38.91 MiB/s, done.\n",
            "Resolving deltas: 100% (1160/1160), done.\n",
            "Checking out files: 100% (82231/82231), done.\n",
            "Fruit-Images-Dataset  sample_data\n",
            "Fruit-Images-Dataset  sample_data\n"
          ],
          "name": "stdout"
        }
      ]
    },
    {
      "cell_type": "markdown",
      "metadata": {
        "id": "6ZzQ0IaxlfA3",
        "colab_type": "text"
      },
      "source": [
        "#### Checking ImageNet Pretrained Models ####"
      ]
    },
    {
      "cell_type": "code",
      "metadata": {
        "id": "iyJ7RM_5lkI4",
        "colab_type": "code",
        "colab": {}
      },
      "source": [
        "from numpy import mean\n",
        "from numpy import std\n",
        "from matplotlib import pyplot\n",
        "from sklearn.model_selection import KFold\n",
        "from tensorflow.keras.datasets import mnist\n",
        "from tensorflow.keras.utils import to_categorical\n",
        "from tensorflow.keras.models import Sequential, Model\n",
        "from tensorflow.keras.layers import Conv2D,MaxPooling2D,Dropout,Dense,BatchNormalization,Flatten,GlobalAveragePooling2D\n",
        "from tensorflow.keras.optimizers import Adam, SGD, Adadelta\n",
        "from tensorflow.keras import backend as K\n",
        "from tensorflow.keras.preprocessing.image import ImageDataGenerator\n",
        "import cv2\n",
        "import glob\n",
        "import os\n",
        "\n",
        "# imports for array-handling and plotting\n",
        "import numpy as np\n",
        "import matplotlib\n",
        "matplotlib.use('agg')\n",
        "import matplotlib.pyplot as plt\n",
        "plt.rcParams.update({'figure.max_open_warning': 0})\n",
        "\n",
        "\n",
        "from tensorflow.keras import applications\n",
        "from tensorflow.keras.preprocessing.image import ImageDataGenerator"
      ],
      "execution_count": 0,
      "outputs": []
    },
    {
      "cell_type": "code",
      "metadata": {
        "colab_type": "code",
        "id": "alMndRkqUzk-",
        "colab": {}
      },
      "source": [
        "def metrics_plot(history):\n",
        "  # plotting the metrics\n",
        "  fig = plt.figure()\n",
        "  plt.subplot(2,1,1)\n",
        "  plt.plot(history.history['accuracy'])\n",
        "  plt.plot(history.history['val_accuracy'])\n",
        "  pyplot.title('Classification Accuracy')\n",
        "  plt.ylabel('accuracy')\n",
        "  plt.xlabel('epoch')\n",
        "  plt.legend(['train', 'test'], loc='lower right')\n",
        "\n",
        "  plt.subplot(2,1,2)\n",
        "  plt.plot(history.history['loss'])\n",
        "  plt.plot(history.history['val_loss'])\n",
        "  pyplot.title('Cross Entropy Loss')\n",
        "  plt.ylabel('loss')\n",
        "  plt.xlabel('epoch')\n",
        "  plt.legend(['train', 'test'], loc='upper right')\n",
        "\n",
        "  plt.tight_layout()\n",
        "\n",
        "  return fig\n",
        "\n",
        "def eval_model(model):\n",
        "  score = model.evaluate(X_test, Y_test, verbose=0)\n",
        "  print('Test loss:', score[0])\n",
        "  print('Test accuracy:', score[1]*100) \n",
        "\n",
        "import matplotlib.pyplot as plt\n",
        "def compare_plot(model_hist1, model_hist2):\n",
        "  # plotting the metrics\n",
        "  fig = plt.figure()\n",
        "  plt.subplot(2,1,1)\n",
        "  # summarize history for accuracy\n",
        "  plt.plot(model_hist1.history['val_accuracy'])\n",
        "  plt.plot(model_hist2.history['val_accuracy'])\n",
        "  plt.title('Classification Accuracy')\n",
        "  plt.ylabel('accuracy')\n",
        "  plt.xlabel('epoch')\n",
        "  plt.legend(['Pretrained', 'W/outTransferLearning'], loc='upper left')\n",
        "\n",
        "  plt.subplot(2,1,2)\n",
        "  # summarize history for loss\n",
        "  plt.plot(model_hist1.history['val_loss'])\n",
        "  plt.plot(model_hist2.history['val_loss'])\n",
        "  plt.title('Cross Entropy Loss')\n",
        "  plt.ylabel('loss')\n",
        "  plt.xlabel('epoch')\n",
        "  plt.legend(['Pretrained', 'W/outTransferLearning'], loc='upper left')\n",
        "  \n",
        "  return fig"
      ],
      "execution_count": 0,
      "outputs": []
    },
    {
      "cell_type": "markdown",
      "metadata": {
        "id": "k9EWT65EftQZ",
        "colab_type": "text"
      },
      "source": [
        "#### Image Preprocessing ####"
      ]
    },
    {
      "cell_type": "code",
      "metadata": {
        "colab_type": "code",
        "id": "jolfmscRU8Lv",
        "colab": {}
      },
      "source": [
        "nb_train_samples=61488\n",
        "nb_validation_samples=20622"
      ],
      "execution_count": 0,
      "outputs": []
    },
    {
      "cell_type": "code",
      "metadata": {
        "colab_type": "code",
        "outputId": "843fb25b-2668-4e98-b47f-1451ce5d3616",
        "id": "hwh_NpA4VKS4",
        "colab": {
          "base_uri": "https://localhost:8080/",
          "height": 70
        }
      },
      "source": [
        "from keras.applications.vgg16 import preprocess_input\n",
        "\n",
        "train_datagen = ImageDataGenerator(\n",
        "    rescale=1./255,\n",
        "    rotation_range=40,\n",
        "    width_shift_range=0.2,\n",
        "    height_shift_range=0.2,\n",
        "    shear_range=0.2,\n",
        "    zoom_range=0.2,\n",
        "    horizontal_flip=True,)\n",
        "\n",
        "# Note that the validation data should not be augmented!\n",
        "test_datagen = ImageDataGenerator(rescale=1./255)\n",
        "\n",
        "train_generator = train_datagen.flow_from_directory(\n",
        "        # This is the target directory\n",
        "        train_dir,\n",
        "        # All images will be resized to 150x150\n",
        "        target_size=(64, 64),\n",
        "        batch_size=200)\n",
        "\n",
        "validation_generator = test_datagen.flow_from_directory(\n",
        "        validation_dir,\n",
        "        target_size=(64, 64),\n",
        "        batch_size=200, shuffle=False,)"
      ],
      "execution_count": 0,
      "outputs": [
        {
          "output_type": "stream",
          "text": [
            "Using TensorFlow backend.\n"
          ],
          "name": "stderr"
        },
        {
          "output_type": "stream",
          "text": [
            "Found 61488 images belonging to 120 classes.\n",
            "Found 20622 images belonging to 120 classes.\n"
          ],
          "name": "stdout"
        }
      ]
    },
    {
      "cell_type": "markdown",
      "metadata": {
        "id": "hbl7mf7tap9q",
        "colab_type": "text"
      },
      "source": [
        "## CNN Models ##"
      ]
    },
    {
      "cell_type": "markdown",
      "metadata": {
        "id": "MNuUtSLVfZF0",
        "colab_type": "text"
      },
      "source": [
        "#### Without Transfer Learning ####"
      ]
    },
    {
      "cell_type": "code",
      "metadata": {
        "id": "LaxqC0sUAK82",
        "colab_type": "code",
        "outputId": "23f192ff-bbc7-496a-eed0-7d7caf7ddeb4",
        "colab": {
          "base_uri": "https://localhost:8080/",
          "height": 799
        }
      },
      "source": [
        "# Make Convolutional Neural Network\n",
        "\n",
        "def my_model2():\n",
        "  model=Sequential()\n",
        "  model.add(Conv2D(16,(5,5),input_shape=(64,64,3),activation='relu'))\n",
        "  model.add(Conv2D(32,(5,5),activation='relu'))\n",
        "  model.add(MaxPooling2D(pool_size=(2,2),strides=2))\n",
        "  model.add(BatchNormalization())\n",
        "  model.add(Conv2D(64,(5,5),activation='relu'))\n",
        "  model.add(MaxPooling2D(pool_size=(2,2),strides=2))\n",
        "  model.add(BatchNormalization())\n",
        "  model.add(Conv2D(128,(5,5),activation='relu'))\n",
        "  model.add(MaxPooling2D(pool_size=(2,2),strides=2))\n",
        "  model.add(BatchNormalization())\n",
        "  model.add(Flatten())\n",
        "  model.add(Dense(1024, activation = 'relu'))\n",
        "  model.add(Dropout(0.25))\n",
        "  model.add(Dense(512, activation = 'relu'))\n",
        "  model.add(Dropout(0.25))\n",
        "  model.add(Dense(256, activation = 'relu'))\n",
        "  model.add(Dropout(0.25))\n",
        "  model.add(Dense(120,activation='softmax'))\n",
        "  model.compile(loss='categorical_crossentropy',optimizer='adam',\n",
        "                metrics=['accuracy'])\n",
        "  model.summary()\n",
        "\n",
        "  return model"
      ],
      "execution_count": 0,
      "outputs": [
        {
          "output_type": "stream",
          "text": [
            "Model: \"sequential_2\"\n",
            "_________________________________________________________________\n",
            "Layer (type)                 Output Shape              Param #   \n",
            "=================================================================\n",
            "conv2d_7 (Conv2D)            (None, 60, 60, 16)        1216      \n",
            "_________________________________________________________________\n",
            "conv2d_8 (Conv2D)            (None, 56, 56, 32)        12832     \n",
            "_________________________________________________________________\n",
            "max_pooling2d_6 (MaxPooling2 (None, 28, 28, 32)        0         \n",
            "_________________________________________________________________\n",
            "batch_normalization (BatchNo (None, 28, 28, 32)        128       \n",
            "_________________________________________________________________\n",
            "conv2d_9 (Conv2D)            (None, 24, 24, 64)        51264     \n",
            "_________________________________________________________________\n",
            "max_pooling2d_7 (MaxPooling2 (None, 12, 12, 64)        0         \n",
            "_________________________________________________________________\n",
            "batch_normalization_1 (Batch (None, 12, 12, 64)        256       \n",
            "_________________________________________________________________\n",
            "conv2d_10 (Conv2D)           (None, 8, 8, 128)         204928    \n",
            "_________________________________________________________________\n",
            "max_pooling2d_8 (MaxPooling2 (None, 4, 4, 128)         0         \n",
            "_________________________________________________________________\n",
            "batch_normalization_2 (Batch (None, 4, 4, 128)         512       \n",
            "_________________________________________________________________\n",
            "flatten_2 (Flatten)          (None, 2048)              0         \n",
            "_________________________________________________________________\n",
            "dense_7 (Dense)              (None, 1024)              2098176   \n",
            "_________________________________________________________________\n",
            "dropout_4 (Dropout)          (None, 1024)              0         \n",
            "_________________________________________________________________\n",
            "dense_8 (Dense)              (None, 512)               524800    \n",
            "_________________________________________________________________\n",
            "dropout_5 (Dropout)          (None, 512)               0         \n",
            "_________________________________________________________________\n",
            "dense_9 (Dense)              (None, 256)               131328    \n",
            "_________________________________________________________________\n",
            "dropout_6 (Dropout)          (None, 256)               0         \n",
            "_________________________________________________________________\n",
            "dense_10 (Dense)             (None, 120)               30840     \n",
            "=================================================================\n",
            "Total params: 3,056,280\n",
            "Trainable params: 3,055,832\n",
            "Non-trainable params: 448\n",
            "_________________________________________________________________\n"
          ],
          "name": "stdout"
        }
      ]
    },
    {
      "cell_type": "code",
      "metadata": {
        "id": "oNyWlsNhUMWx",
        "colab_type": "code",
        "colab": {}
      },
      "source": [
        "cnn_model_2 = my_model2()"
      ],
      "execution_count": 0,
      "outputs": []
    },
    {
      "cell_type": "code",
      "metadata": {
        "id": "_wzKg-9byvR3",
        "colab_type": "code",
        "outputId": "97252b35-e274-4139-c20e-49fe1f1933fe",
        "colab": {
          "base_uri": "https://localhost:8080/",
          "height": 372
        }
      },
      "source": [
        "# Compile and fit\n",
        "cnn_model_2_history = cnn_model_2.fit(X_train,\n",
        "          Y_train,\n",
        "          batch_size=200,\n",
        "          epochs=10,\n",
        "          verbose=1,\n",
        "          validation_data = (X_test,Y_test)\n",
        "         )"
      ],
      "execution_count": 0,
      "outputs": [
        {
          "output_type": "stream",
          "text": [
            "Epoch 1/10\n",
            "308/308 [==============================] - 9s 28ms/step - loss: 0.6374 - accuracy: 0.8286 - val_loss: 6.7502 - val_accuracy: 0.2016\n",
            "Epoch 2/10\n",
            "308/308 [==============================] - 8s 27ms/step - loss: 0.0832 - accuracy: 0.9734 - val_loss: 0.4361 - val_accuracy: 0.8924\n",
            "Epoch 3/10\n",
            "308/308 [==============================] - 9s 29ms/step - loss: 0.0449 - accuracy: 0.9856 - val_loss: 0.3655 - val_accuracy: 0.9127\n",
            "Epoch 4/10\n",
            "308/308 [==============================] - 9s 29ms/step - loss: 0.0457 - accuracy: 0.9868 - val_loss: 0.5237 - val_accuracy: 0.9022\n",
            "Epoch 5/10\n",
            "308/308 [==============================] - 12s 40ms/step - loss: 0.0281 - accuracy: 0.9922 - val_loss: 0.2913 - val_accuracy: 0.9304\n",
            "Epoch 6/10\n",
            "308/308 [==============================] - 8s 27ms/step - loss: 0.0436 - accuracy: 0.9873 - val_loss: 0.4749 - val_accuracy: 0.9086\n",
            "Epoch 7/10\n",
            "308/308 [==============================] - 8s 27ms/step - loss: 0.0294 - accuracy: 0.9919 - val_loss: 0.1241 - val_accuracy: 0.9746\n",
            "Epoch 8/10\n",
            "308/308 [==============================] - 8s 28ms/step - loss: 0.0342 - accuracy: 0.9913 - val_loss: 0.2202 - val_accuracy: 0.9537\n",
            "Epoch 9/10\n",
            "308/308 [==============================] - 9s 28ms/step - loss: 0.0259 - accuracy: 0.9936 - val_loss: 0.8161 - val_accuracy: 0.8818\n",
            "Epoch 10/10\n",
            "308/308 [==============================] - 9s 29ms/step - loss: 0.0258 - accuracy: 0.9932 - val_loss: 0.6563 - val_accuracy: 0.8722\n"
          ],
          "name": "stdout"
        }
      ]
    },
    {
      "cell_type": "code",
      "metadata": {
        "id": "Dw0PRYxqXQpg",
        "colab_type": "code",
        "outputId": "87f2d6f9-0828-4f0f-f6c0-d60eb1b605d4",
        "colab": {
          "base_uri": "https://localhost:8080/",
          "height": 297
        }
      },
      "source": [
        "metrics_plot(cnn_model_2_history)"
      ],
      "execution_count": 0,
      "outputs": [
        {
          "output_type": "execute_result",
          "data": {
            "image/png": "[encoded data removed]",
            "text/plain": [
              "<Figure size 432x288 with 2 Axes>"
            ]
          },
          "metadata": {
            "tags": []
          },
          "execution_count": 39
        }
      ]
    },
    {
      "cell_type": "code",
      "metadata": {
        "id": "u289ec7yXNvo",
        "colab_type": "code",
        "outputId": "a71e7b14-4922-44b3-9948-1b9fa434183d",
        "colab": {
          "base_uri": "https://localhost:8080/",
          "height": 35
        }
      },
      "source": [
        "result = vgg_model.evaluate_generator(validation_generator, \n",
        "                                      steps=int(nb_train_samples / 64))\n",
        "print(\"Test-set classification accuracy: {0:.2%}\".format(result[1]))"
      ],
      "execution_count": 0,
      "outputs": [
        {
          "output_type": "stream",
          "text": [
            "Test-set classification accuracy: 96.52%\n"
          ],
          "name": "stdout"
        }
      ]
    },
    {
      "cell_type": "code",
      "metadata": {
        "id": "k-fCtQiZpiMx",
        "colab_type": "code",
        "colab": {}
      },
      "source": [
        "# Setting Image Directories for Training, Validation and Testing Multiple Fruits\n",
        "train_dir='Fruit-Images-Dataset/Training/'\n",
        "validation_dir='Fruit-Images-Dataset/Test/'\n",
        "testPred_dir='Fruit-Images-Dataset/test-multiple_fruits/'"
      ],
      "execution_count": 0,
      "outputs": []
    },
    {
      "cell_type": "code",
      "metadata": {
        "id": "gOiHFuRHNI5-",
        "colab_type": "code",
        "colab": {}
      },
      "source": [
        "nb_train_samples=61488\n",
        "nb_validation_samples=20622"
      ],
      "execution_count": 0,
      "outputs": []
    },
    {
      "cell_type": "markdown",
      "metadata": {
        "id": "uulA3tQvQ-ny",
        "colab_type": "text"
      },
      "source": [
        "#### VGG16 ####"
      ]
    },
    {
      "cell_type": "code",
      "metadata": {
        "id": "uO_V9U80NS0E",
        "colab_type": "code",
        "outputId": "b1d02b5d-45da-4a93-d6e5-ebd30abd374a",
        "colab": {
          "base_uri": "https://localhost:8080/",
          "height": 52
        }
      },
      "source": [
        "# importing the libraries\n",
        "from tensorflow.keras.applications.vgg16 import VGG16\n",
        "IMAGE_SIZE = [64, 64]  \n",
        "vgg = VGG16(input_shape=(64,64,3), \n",
        "            weights = 'imagenet', include_top = False) "
      ],
      "execution_count": 0,
      "outputs": [
        {
          "output_type": "stream",
          "text": [
            "Downloading data from https://storage.googleapis.com/tensorflow/keras-applications/vgg16/vgg16_weights_tf_dim_ordering_tf_kernels_notop.h5\n",
            "58892288/58889256 [==============================] - 1s 0us/step\n"
          ],
          "name": "stdout"
        }
      ]
    },
    {
      "cell_type": "code",
      "metadata": {
        "id": "jnR-XZod9jCe",
        "colab_type": "code",
        "outputId": "c654c695-2d17-4db8-cddc-3f98317904e6",
        "colab": {
          "base_uri": "https://localhost:8080/",
          "height": 835
        }
      },
      "source": [
        "vgg.summary()"
      ],
      "execution_count": 0,
      "outputs": [
        {
          "output_type": "stream",
          "text": [
            "Model: \"vgg16\"\n",
            "_________________________________________________________________\n",
            "Layer (type)                 Output Shape              Param #   \n",
            "=================================================================\n",
            "input_7 (InputLayer)         [(None, 64, 64, 3)]       0         \n",
            "_________________________________________________________________\n",
            "block1_conv1 (Conv2D)        (None, 64, 64, 64)        1792      \n",
            "_________________________________________________________________\n",
            "block1_conv2 (Conv2D)        (None, 64, 64, 64)        36928     \n",
            "_________________________________________________________________\n",
            "block1_pool (MaxPooling2D)   (None, 32, 32, 64)        0         \n",
            "_________________________________________________________________\n",
            "block2_conv1 (Conv2D)        (None, 32, 32, 128)       73856     \n",
            "_________________________________________________________________\n",
            "block2_conv2 (Conv2D)        (None, 32, 32, 128)       147584    \n",
            "_________________________________________________________________\n",
            "block2_pool (MaxPooling2D)   (None, 16, 16, 128)       0         \n",
            "_________________________________________________________________\n",
            "block3_conv1 (Conv2D)        (None, 16, 16, 256)       295168    \n",
            "_________________________________________________________________\n",
            "block3_conv2 (Conv2D)        (None, 16, 16, 256)       590080    \n",
            "_________________________________________________________________\n",
            "block3_conv3 (Conv2D)        (None, 16, 16, 256)       590080    \n",
            "_________________________________________________________________\n",
            "block3_pool (MaxPooling2D)   (None, 8, 8, 256)         0         \n",
            "_________________________________________________________________\n",
            "block4_conv1 (Conv2D)        (None, 8, 8, 512)         1180160   \n",
            "_________________________________________________________________\n",
            "block4_conv2 (Conv2D)        (None, 8, 8, 512)         2359808   \n",
            "_________________________________________________________________\n",
            "block4_conv3 (Conv2D)        (None, 8, 8, 512)         2359808   \n",
            "_________________________________________________________________\n",
            "block4_pool (MaxPooling2D)   (None, 4, 4, 512)         0         \n",
            "_________________________________________________________________\n",
            "block5_conv1 (Conv2D)        (None, 4, 4, 512)         2359808   \n",
            "_________________________________________________________________\n",
            "block5_conv2 (Conv2D)        (None, 4, 4, 512)         2359808   \n",
            "_________________________________________________________________\n",
            "block5_conv3 (Conv2D)        (None, 4, 4, 512)         2359808   \n",
            "_________________________________________________________________\n",
            "block5_pool (MaxPooling2D)   (None, 2, 2, 512)         0         \n",
            "=================================================================\n",
            "Total params: 14,714,688\n",
            "Trainable params: 14,714,688\n",
            "Non-trainable params: 0\n",
            "_________________________________________________________________\n"
          ],
          "name": "stdout"
        }
      ]
    },
    {
      "cell_type": "code",
      "metadata": {
        "id": "lIQ3aOpV3FF2",
        "colab_type": "code",
        "outputId": "843fb25b-2668-4e98-b47f-1451ce5d3616",
        "colab": {
          "base_uri": "https://localhost:8080/",
          "height": 70
        }
      },
      "source": [
        "from keras.applications.vgg16 import preprocess_input\n",
        "\n",
        "train_datagen = ImageDataGenerator(\n",
        "    rescale=1./255,\n",
        "    rotation_range=40,\n",
        "    width_shift_range=0.2,\n",
        "    height_shift_range=0.2,\n",
        "    shear_range=0.2,\n",
        "    zoom_range=0.2,\n",
        "    horizontal_flip=True,)\n",
        "\n",
        "# Note that the validation data should not be augmented!\n",
        "test_datagen = ImageDataGenerator(rescale=1./255)\n",
        "\n",
        "train_generator = train_datagen.flow_from_directory(\n",
        "        train_dir,\n",
        "        target_size=(64, 64),\n",
        "        batch_size=200)\n",
        "\n",
        "validation_generator = test_datagen.flow_from_directory(\n",
        "        validation_dir,\n",
        "        target_size=(64, 64),\n",
        "        batch_size=200, shuffle=False,)"
      ],
      "execution_count": 0,
      "outputs": [
        {
          "output_type": "stream",
          "text": [
            "Using TensorFlow backend.\n"
          ],
          "name": "stderr"
        },
        {
          "output_type": "stream",
          "text": [
            "Found 61488 images belonging to 120 classes.\n",
            "Found 20622 images belonging to 120 classes.\n"
          ],
          "name": "stdout"
        }
      ]
    },
    {
      "cell_type": "code",
      "metadata": {
        "id": "QrIqXuq-Nn1f",
        "colab_type": "code",
        "outputId": "a2e8ff64-897e-4cb7-9b19-0dea3b32dd2f",
        "colab": {
          "base_uri": "https://localhost:8080/",
          "height": 301
        }
      },
      "source": [
        "vgg_model = Sequential()\n",
        "vgg_model.add(vgg)\n",
        "vgg_model.add(Flatten())\n",
        "vgg_model.add(Dense(256, activation='relu'))\n",
        "vgg_model.add(Dense(120, activation='softmax'))\n",
        "vgg_model.compile(loss='categorical_crossentropy',\n",
        "                  optimizer='adam',metrics=['accuracy'])\n",
        "vgg_model.summary()"
      ],
      "execution_count": 0,
      "outputs": [
        {
          "output_type": "stream",
          "text": [
            "Model: \"sequential_3\"\n",
            "_________________________________________________________________\n",
            "Layer (type)                 Output Shape              Param #   \n",
            "=================================================================\n",
            "vgg16 (Model)                (None, 2, 2, 512)         14714688  \n",
            "_________________________________________________________________\n",
            "flatten (Flatten)            (None, 2048)              0         \n",
            "_________________________________________________________________\n",
            "dense_11 (Dense)             (None, 256)               524544    \n",
            "_________________________________________________________________\n",
            "dense_12 (Dense)             (None, 120)               30840     \n",
            "=================================================================\n",
            "Total params: 15,270,072\n",
            "Trainable params: 15,270,072\n",
            "Non-trainable params: 0\n",
            "_________________________________________________________________\n"
          ],
          "name": "stdout"
        }
      ]
    },
    {
      "cell_type": "code",
      "metadata": {
        "id": "PPYtNrDR_KT2",
        "colab_type": "code",
        "outputId": "61ab9899-616a-4906-985c-280f05809368",
        "colab": {
          "base_uri": "https://localhost:8080/",
          "height": 372
        }
      },
      "source": [
        "vgg_history1 = vgg_model.fit_generator(train_generator,\n",
        "                   steps_per_epoch = int(nb_train_samples / 64),  # this should be equal to total number of images in training set. But to speed up the execution, I am only using 10000 images. Change this for better results. \n",
        "                   epochs = 10,  # change this for better results\n",
        "                   validation_data = validation_generator,\n",
        "                   validation_steps = int(nb_validation_samples / 64),\n",
        "                   verbose = 1)  # this should be equal to total number of images in validation set."
      ],
      "execution_count": 0,
      "outputs": [
        {
          "output_type": "stream",
          "text": [
            "Epoch 1/10\n",
            "960/960 [==============================] - 384s 400ms/step - loss: 1.7171 - accuracy: 0.5083 - val_loss: 0.5125 - val_accuracy: 0.8259\n",
            "Epoch 2/10\n",
            "960/960 [==============================] - 380s 395ms/step - loss: 0.2867 - accuracy: 0.9029 - val_loss: 0.1456 - val_accuracy: 0.9497\n",
            "Epoch 3/10\n",
            "960/960 [==============================] - 376s 392ms/step - loss: 0.1587 - accuracy: 0.9463 - val_loss: 0.1173 - val_accuracy: 0.9609\n",
            "Epoch 4/10\n",
            "960/960 [==============================] - 380s 395ms/step - loss: 0.1192 - accuracy: 0.9600 - val_loss: 0.1058 - val_accuracy: 0.9646\n",
            "Epoch 5/10\n",
            "960/960 [==============================] - 379s 395ms/step - loss: 0.1055 - accuracy: 0.9651 - val_loss: 0.1600 - val_accuracy: 0.9551\n",
            "Epoch 6/10\n",
            "960/960 [==============================] - 381s 397ms/step - loss: 0.1005 - accuracy: 0.9674 - val_loss: 0.2178 - val_accuracy: 0.9354\n",
            "Epoch 7/10\n",
            "960/960 [==============================] - 382s 398ms/step - loss: 0.0774 - accuracy: 0.9748 - val_loss: 0.1606 - val_accuracy: 0.9623\n",
            "Epoch 8/10\n",
            "960/960 [==============================] - 382s 398ms/step - loss: 0.0735 - accuracy: 0.9760 - val_loss: 0.0774 - val_accuracy: 0.9762\n",
            "Epoch 9/10\n",
            "960/960 [==============================] - 387s 404ms/step - loss: 0.0761 - accuracy: 0.9760 - val_loss: 0.1167 - val_accuracy: 0.9631\n",
            "Epoch 10/10\n",
            "960/960 [==============================] - 387s 403ms/step - loss: 0.0640 - accuracy: 0.9795 - val_loss: 0.0920 - val_accuracy: 0.9711\n"
          ],
          "name": "stdout"
        }
      ]
    },
    {
      "cell_type": "code",
      "metadata": {
        "id": "FekOqkjnaxgP",
        "colab_type": "code",
        "outputId": "30326a9f-f8b6-41ee-f698-4495d47c2279",
        "colab": {
          "base_uri": "https://localhost:8080/",
          "height": 297
        }
      },
      "source": [
        "metrics_plot(vgg_history1)"
      ],
      "execution_count": 0,
      "outputs": [
        {
          "output_type": "execute_result",
          "data": {
            "image/png": "[encoded data removed]",
            "text/plain": [
              "<Figure size 432x288 with 2 Axes>"
            ]
          },
          "metadata": {
            "tags": []
          },
          "execution_count": 62
        }
      ]
    },
    {
      "cell_type": "code",
      "metadata": {
        "id": "-XxiF1ufgtzL",
        "colab_type": "code",
        "outputId": "2fae9e23-57de-4e02-def2-782dcbbeb3b9",
        "colab": {
          "base_uri": "https://localhost:8080/",
          "height": 35
        }
      },
      "source": [
        "result = vgg_model.evaluate_generator(validation_generator, steps=1288)\n",
        "print(\"Test-set classification accuracy: {0:.2%}\".format(result[1]))"
      ],
      "execution_count": 0,
      "outputs": [
        {
          "output_type": "stream",
          "text": [
            "Test-set classification accuracy: 97.22%\n"
          ],
          "name": "stdout"
        }
      ]
    },
    {
      "cell_type": "markdown",
      "metadata": {
        "id": "eVDW8TQ_RL8V",
        "colab_type": "text"
      },
      "source": [
        "#### INCEPTIONV3 ####"
      ]
    },
    {
      "cell_type": "code",
      "metadata": {
        "id": "5sLMdvvN4ino",
        "colab_type": "code",
        "colab": {}
      },
      "source": [
        "from tensorflow.keras.applications.inception_v3 import InceptionV3\n",
        "\n",
        "IMAGE_SIZE = [299, 299] \n",
        "inceptionv3 = InceptionV3(input_shape=(299,299,3),\n",
        "                          weights = 'imagenet', include_top = False) "
      ],
      "execution_count": 0,
      "outputs": []
    },
    {
      "cell_type": "code",
      "metadata": {
        "id": "d3MJfMTX49Pa",
        "colab_type": "code",
        "outputId": "a94a7c97-51a5-46d2-84c2-3c9e424f1b78",
        "colab": {
          "base_uri": "https://localhost:8080/",
          "height": 52
        }
      },
      "source": [
        "from keras.applications.vgg16 import preprocess_input\n",
        "\n",
        "train_datagen = ImageDataGenerator(\n",
        "    rescale=1./255,\n",
        "    rotation_range=40,\n",
        "    width_shift_range=0.2,\n",
        "    height_shift_range=0.2,\n",
        "    shear_range=0.2,\n",
        "    zoom_range=0.2,\n",
        "    horizontal_flip=True,)\n",
        "\n",
        "# Note that the validation data should not be augmented!\n",
        "test_datagen = ImageDataGenerator(rescale=1./255)\n",
        "\n",
        "train_generator = train_datagen.flow_from_directory(\n",
        "        # This is the target directory\n",
        "        train_dir,\n",
        "        # All images will be resized to 150x150\n",
        "        target_size=(299, 299),\n",
        "        batch_size=32)\n",
        "\n",
        "validation_generator = test_datagen.flow_from_directory(\n",
        "        validation_dir,\n",
        "        target_size=(299, 299),\n",
        "        batch_size=32, shuffle=False,)"
      ],
      "execution_count": 0,
      "outputs": [
        {
          "output_type": "stream",
          "text": [
            "Found 61488 images belonging to 120 classes.\n",
            "Found 20622 images belonging to 120 classes.\n"
          ],
          "name": "stdout"
        }
      ]
    },
    {
      "cell_type": "code",
      "metadata": {
        "id": "aAHDvhpaQvYl",
        "colab_type": "code",
        "outputId": "ebe5d29a-538c-49cd-ff66-5f454b9c16db",
        "colab": {
          "base_uri": "https://localhost:8080/",
          "height": 301
        }
      },
      "source": [
        "inceptionv3_model = Sequential()\n",
        "inceptionv3_model.add(inceptionv3)\n",
        "inceptionv3_model.add(GlobalAveragePooling2D())\n",
        "inceptionv3_model.add(Dense(512, activation='relu'))\n",
        "inceptionv3_model.add(Dense(120, activation='softmax'))\n",
        "inceptionv3_model.compile(loss='categorical_crossentropy',\n",
        "                          optimizer='adam',metrics=['accuracy'])\n",
        "inceptionv3_model.summary()"
      ],
      "execution_count": 0,
      "outputs": [
        {
          "output_type": "stream",
          "text": [
            "Model: \"sequential_15\"\n",
            "_________________________________________________________________\n",
            "Layer (type)                 Output Shape              Param #   \n",
            "=================================================================\n",
            "inception_v3 (Model)         (None, 8, 8, 2048)        21802784  \n",
            "_________________________________________________________________\n",
            "global_average_pooling2d_10  (None, 2048)              0         \n",
            "_________________________________________________________________\n",
            "dense_61 (Dense)             (None, 512)               1049088   \n",
            "_________________________________________________________________\n",
            "dense_62 (Dense)             (None, 120)               61560     \n",
            "=================================================================\n",
            "Total params: 22,913,432\n",
            "Trainable params: 22,879,000\n",
            "Non-trainable params: 34,432\n",
            "_________________________________________________________________\n"
          ],
          "name": "stdout"
        }
      ]
    },
    {
      "cell_type": "code",
      "metadata": {
        "id": "rJA2GRPafEic",
        "colab_type": "code",
        "outputId": "e6c94a99-b8e7-4e1c-eef8-0ecdac6d3aa7",
        "colab": {
          "base_uri": "https://localhost:8080/",
          "height": 372
        }
      },
      "source": [
        "inceptionv3_history = inceptionv3_model.fit_generator(train_generator,\n",
        "                   steps_per_epoch = int(nb_train_samples / 64),  # this should be equal to total number of images in training set. But to speed up the execution, I am only using 10000 images. Change this for better results. \n",
        "                   epochs = 10,  # change this for better results\n",
        "                   validation_data = validation_generator,\n",
        "                   validation_steps = int(nb_validation_samples / 64),\n",
        "                   verbose = 1)  # this should be equal to total number of images in validation set."
      ],
      "execution_count": 0,
      "outputs": [
        {
          "output_type": "stream",
          "text": [
            "Epoch 1/10\n",
            "960/960 [==============================] - 625s 651ms/step - loss: 1.0183 - accuracy: 0.7132 - val_loss: 0.6045 - val_accuracy: 0.8155\n",
            "Epoch 2/10\n",
            "960/960 [==============================] - 619s 645ms/step - loss: 0.1974 - accuracy: 0.9374 - val_loss: 0.2756 - val_accuracy: 0.9321\n",
            "Epoch 3/10\n",
            "960/960 [==============================] - 619s 645ms/step - loss: 0.1265 - accuracy: 0.9597 - val_loss: 0.0847 - val_accuracy: 0.9757\n",
            "Epoch 4/10\n",
            "960/960 [==============================] - 624s 650ms/step - loss: 0.0999 - accuracy: 0.9694 - val_loss: 0.1647 - val_accuracy: 0.9569\n",
            "Epoch 5/10\n",
            "960/960 [==============================] - 618s 643ms/step - loss: 0.0897 - accuracy: 0.9718 - val_loss: 0.0419 - val_accuracy: 0.9824\n",
            "Epoch 6/10\n",
            "960/960 [==============================] - 610s 636ms/step - loss: 0.0816 - accuracy: 0.9756 - val_loss: 0.3712 - val_accuracy: 0.9016\n",
            "Epoch 7/10\n",
            "960/960 [==============================] - 611s 637ms/step - loss: 0.0607 - accuracy: 0.9814 - val_loss: 0.0396 - val_accuracy: 0.9859\n",
            "Epoch 8/10\n",
            "960/960 [==============================] - 613s 638ms/step - loss: 0.0591 - accuracy: 0.9831 - val_loss: 0.9391 - val_accuracy: 0.8224\n",
            "Epoch 9/10\n",
            "960/960 [==============================] - 609s 634ms/step - loss: 0.0590 - accuracy: 0.9816 - val_loss: 0.0361 - val_accuracy: 0.9853\n",
            "Epoch 10/10\n",
            "960/960 [==============================] - 608s 633ms/step - loss: 0.0523 - accuracy: 0.9832 - val_loss: 0.0657 - val_accuracy: 0.9810\n"
          ],
          "name": "stdout"
        }
      ]
    },
    {
      "cell_type": "code",
      "metadata": {
        "id": "cg39pr0_jpDe",
        "colab_type": "code",
        "outputId": "c4135cd2-fadd-4e2e-9ef6-d435a9235a39",
        "colab": {
          "base_uri": "https://localhost:8080/",
          "height": 297
        }
      },
      "source": [
        "metrics_plot(inceptionv3_history)"
      ],
      "execution_count": 0,
      "outputs": [
        {
          "output_type": "execute_result",
          "data": {
            "image/png": "[encoded data removed]",
            "text/plain": [
              "<Figure size 432x288 with 2 Axes>"
            ]
          },
          "metadata": {
            "tags": []
          },
          "execution_count": 176
        }
      ]
    },
    {
      "cell_type": "code",
      "metadata": {
        "id": "-Q2N4hdvn9XN",
        "colab_type": "code",
        "outputId": "653a1713-9de5-4cdc-9fac-e95534886466",
        "colab": {
          "base_uri": "https://localhost:8080/",
          "height": 108
        }
      },
      "source": [
        "result = inceptionv3_model.evaluate_generator(validation_generator, steps=1288)\n",
        "print(\"Test-set classification accuracy: {0:.2%}\".format(result[1]))"
      ],
      "execution_count": 0,
      "outputs": [
        {
          "output_type": "stream",
          "text": [
            "WARNING:tensorflow:From <ipython-input-178-4fc8b55ba491>:1: Model.evaluate_generator (from tensorflow.python.keras.engine.training) is deprecated and will be removed in a future version.\n",
            "Instructions for updating:\n",
            "Please use Model.evaluate, which supports generators.\n",
            "Test-set classification accuracy: 98.34%\n"
          ],
          "name": "stdout"
        }
      ]
    },
    {
      "cell_type": "markdown",
      "metadata": {
        "id": "_dEUk0MhqwXe",
        "colab_type": "text"
      },
      "source": [
        ""
      ]
    },
    {
      "cell_type": "markdown",
      "metadata": {
        "id": "RmwI_jAznvZX",
        "colab_type": "text"
      },
      "source": [
        "#### XCEPTION ####"
      ]
    },
    {
      "cell_type": "code",
      "metadata": {
        "id": "VkH0vGsnnyUS",
        "colab_type": "code",
        "colab": {}
      },
      "source": [
        "from tensorflow.keras.applications.xception import Xception, preprocess_input\n",
        "\n",
        "IMAGE_SIZE = [299, 299] \n",
        "xception_base = Xception(input_shape = (299,299,3), \n",
        "                         weights = 'imagenet', include_top = False) "
      ],
      "execution_count": 0,
      "outputs": []
    },
    {
      "cell_type": "code",
      "metadata": {
        "id": "g6RpIYak_RPq",
        "colab_type": "code",
        "outputId": "9de52e31-4193-480b-8b30-b16efcc7fd10",
        "colab": {
          "base_uri": "https://localhost:8080/",
          "height": 1000
        }
      },
      "source": [
        "xception_base.summary()"
      ],
      "execution_count": 0,
      "outputs": [
        {
          "output_type": "stream",
          "text": [
            "Model: \"xception\"\n",
            "__________________________________________________________________________________________________\n",
            "Layer (type)                    Output Shape         Param #     Connected to                     \n",
            "==================================================================================================\n",
            "input_6 (InputLayer)            [(None, 299, 299, 3) 0                                            \n",
            "__________________________________________________________________________________________________\n",
            "block1_conv1 (Conv2D)           (None, 149, 149, 32) 864         input_6[0][0]                    \n",
            "__________________________________________________________________________________________________\n",
            "block1_conv1_bn (BatchNormaliza (None, 149, 149, 32) 128         block1_conv1[0][0]               \n",
            "__________________________________________________________________________________________________\n",
            "block1_conv1_act (Activation)   (None, 149, 149, 32) 0           block1_conv1_bn[0][0]            \n",
            "__________________________________________________________________________________________________\n",
            "block1_conv2 (Conv2D)           (None, 147, 147, 64) 18432       block1_conv1_act[0][0]           \n",
            "__________________________________________________________________________________________________\n",
            "block1_conv2_bn (BatchNormaliza (None, 147, 147, 64) 256         block1_conv2[0][0]               \n",
            "__________________________________________________________________________________________________\n",
            "block1_conv2_act (Activation)   (None, 147, 147, 64) 0           block1_conv2_bn[0][0]            \n",
            "__________________________________________________________________________________________________\n",
            "block2_sepconv1 (SeparableConv2 (None, 147, 147, 128 8768        block1_conv2_act[0][0]           \n",
            "__________________________________________________________________________________________________\n",
            "block2_sepconv1_bn (BatchNormal (None, 147, 147, 128 512         block2_sepconv1[0][0]            \n",
            "__________________________________________________________________________________________________\n",
            "block2_sepconv2_act (Activation (None, 147, 147, 128 0           block2_sepconv1_bn[0][0]         \n",
            "__________________________________________________________________________________________________\n",
            "block2_sepconv2 (SeparableConv2 (None, 147, 147, 128 17536       block2_sepconv2_act[0][0]        \n",
            "__________________________________________________________________________________________________\n",
            "block2_sepconv2_bn (BatchNormal (None, 147, 147, 128 512         block2_sepconv2[0][0]            \n",
            "__________________________________________________________________________________________________\n",
            "conv2d_16 (Conv2D)              (None, 74, 74, 128)  8192        block1_conv2_act[0][0]           \n",
            "__________________________________________________________________________________________________\n",
            "block2_pool (MaxPooling2D)      (None, 74, 74, 128)  0           block2_sepconv2_bn[0][0]         \n",
            "__________________________________________________________________________________________________\n",
            "batch_normalization_16 (BatchNo (None, 74, 74, 128)  512         conv2d_16[0][0]                  \n",
            "__________________________________________________________________________________________________\n",
            "add_48 (Add)                    (None, 74, 74, 128)  0           block2_pool[0][0]                \n",
            "                                                                 batch_normalization_16[0][0]     \n",
            "__________________________________________________________________________________________________\n",
            "block3_sepconv1_act (Activation (None, 74, 74, 128)  0           add_48[0][0]                     \n",
            "__________________________________________________________________________________________________\n",
            "block3_sepconv1 (SeparableConv2 (None, 74, 74, 256)  33920       block3_sepconv1_act[0][0]        \n",
            "__________________________________________________________________________________________________\n",
            "block3_sepconv1_bn (BatchNormal (None, 74, 74, 256)  1024        block3_sepconv1[0][0]            \n",
            "__________________________________________________________________________________________________\n",
            "block3_sepconv2_act (Activation (None, 74, 74, 256)  0           block3_sepconv1_bn[0][0]         \n",
            "__________________________________________________________________________________________________\n",
            "block3_sepconv2 (SeparableConv2 (None, 74, 74, 256)  67840       block3_sepconv2_act[0][0]        \n",
            "__________________________________________________________________________________________________\n",
            "block3_sepconv2_bn (BatchNormal (None, 74, 74, 256)  1024        block3_sepconv2[0][0]            \n",
            "__________________________________________________________________________________________________\n",
            "conv2d_17 (Conv2D)              (None, 37, 37, 256)  32768       add_48[0][0]                     \n",
            "__________________________________________________________________________________________________\n",
            "block3_pool (MaxPooling2D)      (None, 37, 37, 256)  0           block3_sepconv2_bn[0][0]         \n",
            "__________________________________________________________________________________________________\n",
            "batch_normalization_17 (BatchNo (None, 37, 37, 256)  1024        conv2d_17[0][0]                  \n",
            "__________________________________________________________________________________________________\n",
            "add_49 (Add)                    (None, 37, 37, 256)  0           block3_pool[0][0]                \n",
            "                                                                 batch_normalization_17[0][0]     \n",
            "__________________________________________________________________________________________________\n",
            "block4_sepconv1_act (Activation (None, 37, 37, 256)  0           add_49[0][0]                     \n",
            "__________________________________________________________________________________________________\n",
            "block4_sepconv1 (SeparableConv2 (None, 37, 37, 728)  188672      block4_sepconv1_act[0][0]        \n",
            "__________________________________________________________________________________________________\n",
            "block4_sepconv1_bn (BatchNormal (None, 37, 37, 728)  2912        block4_sepconv1[0][0]            \n",
            "__________________________________________________________________________________________________\n",
            "block4_sepconv2_act (Activation (None, 37, 37, 728)  0           block4_sepconv1_bn[0][0]         \n",
            "__________________________________________________________________________________________________\n",
            "block4_sepconv2 (SeparableConv2 (None, 37, 37, 728)  536536      block4_sepconv2_act[0][0]        \n",
            "__________________________________________________________________________________________________\n",
            "block4_sepconv2_bn (BatchNormal (None, 37, 37, 728)  2912        block4_sepconv2[0][0]            \n",
            "__________________________________________________________________________________________________\n",
            "conv2d_18 (Conv2D)              (None, 19, 19, 728)  186368      add_49[0][0]                     \n",
            "__________________________________________________________________________________________________\n",
            "block4_pool (MaxPooling2D)      (None, 19, 19, 728)  0           block4_sepconv2_bn[0][0]         \n",
            "__________________________________________________________________________________________________\n",
            "batch_normalization_18 (BatchNo (None, 19, 19, 728)  2912        conv2d_18[0][0]                  \n",
            "__________________________________________________________________________________________________\n",
            "add_50 (Add)                    (None, 19, 19, 728)  0           block4_pool[0][0]                \n",
            "                                                                 batch_normalization_18[0][0]     \n",
            "__________________________________________________________________________________________________\n",
            "block5_sepconv1_act (Activation (None, 19, 19, 728)  0           add_50[0][0]                     \n",
            "__________________________________________________________________________________________________\n",
            "block5_sepconv1 (SeparableConv2 (None, 19, 19, 728)  536536      block5_sepconv1_act[0][0]        \n",
            "__________________________________________________________________________________________________\n",
            "block5_sepconv1_bn (BatchNormal (None, 19, 19, 728)  2912        block5_sepconv1[0][0]            \n",
            "__________________________________________________________________________________________________\n",
            "block5_sepconv2_act (Activation (None, 19, 19, 728)  0           block5_sepconv1_bn[0][0]         \n",
            "__________________________________________________________________________________________________\n",
            "block5_sepconv2 (SeparableConv2 (None, 19, 19, 728)  536536      block5_sepconv2_act[0][0]        \n",
            "__________________________________________________________________________________________________\n",
            "block5_sepconv2_bn (BatchNormal (None, 19, 19, 728)  2912        block5_sepconv2[0][0]            \n",
            "__________________________________________________________________________________________________\n",
            "block5_sepconv3_act (Activation (None, 19, 19, 728)  0           block5_sepconv2_bn[0][0]         \n",
            "__________________________________________________________________________________________________\n",
            "block5_sepconv3 (SeparableConv2 (None, 19, 19, 728)  536536      block5_sepconv3_act[0][0]        \n",
            "__________________________________________________________________________________________________\n",
            "block5_sepconv3_bn (BatchNormal (None, 19, 19, 728)  2912        block5_sepconv3[0][0]            \n",
            "__________________________________________________________________________________________________\n",
            "add_51 (Add)                    (None, 19, 19, 728)  0           block5_sepconv3_bn[0][0]         \n",
            "                                                                 add_50[0][0]                     \n",
            "__________________________________________________________________________________________________\n",
            "block6_sepconv1_act (Activation (None, 19, 19, 728)  0           add_51[0][0]                     \n",
            "__________________________________________________________________________________________________\n",
            "block6_sepconv1 (SeparableConv2 (None, 19, 19, 728)  536536      block6_sepconv1_act[0][0]        \n",
            "__________________________________________________________________________________________________\n",
            "block6_sepconv1_bn (BatchNormal (None, 19, 19, 728)  2912        block6_sepconv1[0][0]            \n",
            "__________________________________________________________________________________________________\n",
            "block6_sepconv2_act (Activation (None, 19, 19, 728)  0           block6_sepconv1_bn[0][0]         \n",
            "__________________________________________________________________________________________________\n",
            "block6_sepconv2 (SeparableConv2 (None, 19, 19, 728)  536536      block6_sepconv2_act[0][0]        \n",
            "__________________________________________________________________________________________________\n",
            "block6_sepconv2_bn (BatchNormal (None, 19, 19, 728)  2912        block6_sepconv2[0][0]            \n",
            "__________________________________________________________________________________________________\n",
            "block6_sepconv3_act (Activation (None, 19, 19, 728)  0           block6_sepconv2_bn[0][0]         \n",
            "__________________________________________________________________________________________________\n",
            "block6_sepconv3 (SeparableConv2 (None, 19, 19, 728)  536536      block6_sepconv3_act[0][0]        \n",
            "__________________________________________________________________________________________________\n",
            "block6_sepconv3_bn (BatchNormal (None, 19, 19, 728)  2912        block6_sepconv3[0][0]            \n",
            "__________________________________________________________________________________________________\n",
            "add_52 (Add)                    (None, 19, 19, 728)  0           block6_sepconv3_bn[0][0]         \n",
            "                                                                 add_51[0][0]                     \n",
            "__________________________________________________________________________________________________\n",
            "block7_sepconv1_act (Activation (None, 19, 19, 728)  0           add_52[0][0]                     \n",
            "__________________________________________________________________________________________________\n",
            "block7_sepconv1 (SeparableConv2 (None, 19, 19, 728)  536536      block7_sepconv1_act[0][0]        \n",
            "__________________________________________________________________________________________________\n",
            "block7_sepconv1_bn (BatchNormal (None, 19, 19, 728)  2912        block7_sepconv1[0][0]            \n",
            "__________________________________________________________________________________________________\n",
            "block7_sepconv2_act (Activation (None, 19, 19, 728)  0           block7_sepconv1_bn[0][0]         \n",
            "__________________________________________________________________________________________________\n",
            "block7_sepconv2 (SeparableConv2 (None, 19, 19, 728)  536536      block7_sepconv2_act[0][0]        \n",
            "__________________________________________________________________________________________________\n",
            "block7_sepconv2_bn (BatchNormal (None, 19, 19, 728)  2912        block7_sepconv2[0][0]            \n",
            "__________________________________________________________________________________________________\n",
            "block7_sepconv3_act (Activation (None, 19, 19, 728)  0           block7_sepconv2_bn[0][0]         \n",
            "__________________________________________________________________________________________________\n",
            "block7_sepconv3 (SeparableConv2 (None, 19, 19, 728)  536536      block7_sepconv3_act[0][0]        \n",
            "__________________________________________________________________________________________________\n",
            "block7_sepconv3_bn (BatchNormal (None, 19, 19, 728)  2912        block7_sepconv3[0][0]            \n",
            "__________________________________________________________________________________________________\n",
            "add_53 (Add)                    (None, 19, 19, 728)  0           block7_sepconv3_bn[0][0]         \n",
            "                                                                 add_52[0][0]                     \n",
            "__________________________________________________________________________________________________\n",
            "block8_sepconv1_act (Activation (None, 19, 19, 728)  0           add_53[0][0]                     \n",
            "__________________________________________________________________________________________________\n",
            "block8_sepconv1 (SeparableConv2 (None, 19, 19, 728)  536536      block8_sepconv1_act[0][0]        \n",
            "__________________________________________________________________________________________________\n",
            "block8_sepconv1_bn (BatchNormal (None, 19, 19, 728)  2912        block8_sepconv1[0][0]            \n",
            "__________________________________________________________________________________________________\n",
            "block8_sepconv2_act (Activation (None, 19, 19, 728)  0           block8_sepconv1_bn[0][0]         \n",
            "__________________________________________________________________________________________________\n",
            "block8_sepconv2 (SeparableConv2 (None, 19, 19, 728)  536536      block8_sepconv2_act[0][0]        \n",
            "__________________________________________________________________________________________________\n",
            "block8_sepconv2_bn (BatchNormal (None, 19, 19, 728)  2912        block8_sepconv2[0][0]            \n",
            "__________________________________________________________________________________________________\n",
            "block8_sepconv3_act (Activation (None, 19, 19, 728)  0           block8_sepconv2_bn[0][0]         \n",
            "__________________________________________________________________________________________________\n",
            "block8_sepconv3 (SeparableConv2 (None, 19, 19, 728)  536536      block8_sepconv3_act[0][0]        \n",
            "__________________________________________________________________________________________________\n",
            "block8_sepconv3_bn (BatchNormal (None, 19, 19, 728)  2912        block8_sepconv3[0][0]            \n",
            "__________________________________________________________________________________________________\n",
            "add_54 (Add)                    (None, 19, 19, 728)  0           block8_sepconv3_bn[0][0]         \n",
            "                                                                 add_53[0][0]                     \n",
            "__________________________________________________________________________________________________\n",
            "block9_sepconv1_act (Activation (None, 19, 19, 728)  0           add_54[0][0]                     \n",
            "__________________________________________________________________________________________________\n",
            "block9_sepconv1 (SeparableConv2 (None, 19, 19, 728)  536536      block9_sepconv1_act[0][0]        \n",
            "__________________________________________________________________________________________________\n",
            "block9_sepconv1_bn (BatchNormal (None, 19, 19, 728)  2912        block9_sepconv1[0][0]            \n",
            "__________________________________________________________________________________________________\n",
            "block9_sepconv2_act (Activation (None, 19, 19, 728)  0           block9_sepconv1_bn[0][0]         \n",
            "__________________________________________________________________________________________________\n",
            "block9_sepconv2 (SeparableConv2 (None, 19, 19, 728)  536536      block9_sepconv2_act[0][0]        \n",
            "__________________________________________________________________________________________________\n",
            "block9_sepconv2_bn (BatchNormal (None, 19, 19, 728)  2912        block9_sepconv2[0][0]            \n",
            "__________________________________________________________________________________________________\n",
            "block9_sepconv3_act (Activation (None, 19, 19, 728)  0           block9_sepconv2_bn[0][0]         \n",
            "__________________________________________________________________________________________________\n",
            "block9_sepconv3 (SeparableConv2 (None, 19, 19, 728)  536536      block9_sepconv3_act[0][0]        \n",
            "__________________________________________________________________________________________________\n",
            "block9_sepconv3_bn (BatchNormal (None, 19, 19, 728)  2912        block9_sepconv3[0][0]            \n",
            "__________________________________________________________________________________________________\n",
            "add_55 (Add)                    (None, 19, 19, 728)  0           block9_sepconv3_bn[0][0]         \n",
            "                                                                 add_54[0][0]                     \n",
            "__________________________________________________________________________________________________\n",
            "block10_sepconv1_act (Activatio (None, 19, 19, 728)  0           add_55[0][0]                     \n",
            "__________________________________________________________________________________________________\n",
            "block10_sepconv1 (SeparableConv (None, 19, 19, 728)  536536      block10_sepconv1_act[0][0]       \n",
            "__________________________________________________________________________________________________\n",
            "block10_sepconv1_bn (BatchNorma (None, 19, 19, 728)  2912        block10_sepconv1[0][0]           \n",
            "__________________________________________________________________________________________________\n",
            "block10_sepconv2_act (Activatio (None, 19, 19, 728)  0           block10_sepconv1_bn[0][0]        \n",
            "__________________________________________________________________________________________________\n",
            "block10_sepconv2 (SeparableConv (None, 19, 19, 728)  536536      block10_sepconv2_act[0][0]       \n",
            "__________________________________________________________________________________________________\n",
            "block10_sepconv2_bn (BatchNorma (None, 19, 19, 728)  2912        block10_sepconv2[0][0]           \n",
            "__________________________________________________________________________________________________\n",
            "block10_sepconv3_act (Activatio (None, 19, 19, 728)  0           block10_sepconv2_bn[0][0]        \n",
            "__________________________________________________________________________________________________\n",
            "block10_sepconv3 (SeparableConv (None, 19, 19, 728)  536536      block10_sepconv3_act[0][0]       \n",
            "__________________________________________________________________________________________________\n",
            "block10_sepconv3_bn (BatchNorma (None, 19, 19, 728)  2912        block10_sepconv3[0][0]           \n",
            "__________________________________________________________________________________________________\n",
            "add_56 (Add)                    (None, 19, 19, 728)  0           block10_sepconv3_bn[0][0]        \n",
            "                                                                 add_55[0][0]                     \n",
            "__________________________________________________________________________________________________\n",
            "block11_sepconv1_act (Activatio (None, 19, 19, 728)  0           add_56[0][0]                     \n",
            "__________________________________________________________________________________________________\n",
            "block11_sepconv1 (SeparableConv (None, 19, 19, 728)  536536      block11_sepconv1_act[0][0]       \n",
            "__________________________________________________________________________________________________\n",
            "block11_sepconv1_bn (BatchNorma (None, 19, 19, 728)  2912        block11_sepconv1[0][0]           \n",
            "__________________________________________________________________________________________________\n",
            "block11_sepconv2_act (Activatio (None, 19, 19, 728)  0           block11_sepconv1_bn[0][0]        \n",
            "__________________________________________________________________________________________________\n",
            "block11_sepconv2 (SeparableConv (None, 19, 19, 728)  536536      block11_sepconv2_act[0][0]       \n",
            "__________________________________________________________________________________________________\n",
            "block11_sepconv2_bn (BatchNorma (None, 19, 19, 728)  2912        block11_sepconv2[0][0]           \n",
            "__________________________________________________________________________________________________\n",
            "block11_sepconv3_act (Activatio (None, 19, 19, 728)  0           block11_sepconv2_bn[0][0]        \n",
            "__________________________________________________________________________________________________\n",
            "block11_sepconv3 (SeparableConv (None, 19, 19, 728)  536536      block11_sepconv3_act[0][0]       \n",
            "__________________________________________________________________________________________________\n",
            "block11_sepconv3_bn (BatchNorma (None, 19, 19, 728)  2912        block11_sepconv3[0][0]           \n",
            "__________________________________________________________________________________________________\n",
            "add_57 (Add)                    (None, 19, 19, 728)  0           block11_sepconv3_bn[0][0]        \n",
            "                                                                 add_56[0][0]                     \n",
            "__________________________________________________________________________________________________\n",
            "block12_sepconv1_act (Activatio (None, 19, 19, 728)  0           add_57[0][0]                     \n",
            "__________________________________________________________________________________________________\n",
            "block12_sepconv1 (SeparableConv (None, 19, 19, 728)  536536      block12_sepconv1_act[0][0]       \n",
            "__________________________________________________________________________________________________\n",
            "block12_sepconv1_bn (BatchNorma (None, 19, 19, 728)  2912        block12_sepconv1[0][0]           \n",
            "__________________________________________________________________________________________________\n",
            "block12_sepconv2_act (Activatio (None, 19, 19, 728)  0           block12_sepconv1_bn[0][0]        \n",
            "__________________________________________________________________________________________________\n",
            "block12_sepconv2 (SeparableConv (None, 19, 19, 728)  536536      block12_sepconv2_act[0][0]       \n",
            "__________________________________________________________________________________________________\n",
            "block12_sepconv2_bn (BatchNorma (None, 19, 19, 728)  2912        block12_sepconv2[0][0]           \n",
            "__________________________________________________________________________________________________\n",
            "block12_sepconv3_act (Activatio (None, 19, 19, 728)  0           block12_sepconv2_bn[0][0]        \n",
            "__________________________________________________________________________________________________\n",
            "block12_sepconv3 (SeparableConv (None, 19, 19, 728)  536536      block12_sepconv3_act[0][0]       \n",
            "__________________________________________________________________________________________________\n",
            "block12_sepconv3_bn (BatchNorma (None, 19, 19, 728)  2912        block12_sepconv3[0][0]           \n",
            "__________________________________________________________________________________________________\n",
            "add_58 (Add)                    (None, 19, 19, 728)  0           block12_sepconv3_bn[0][0]        \n",
            "                                                                 add_57[0][0]                     \n",
            "__________________________________________________________________________________________________\n",
            "block13_sepconv1_act (Activatio (None, 19, 19, 728)  0           add_58[0][0]                     \n",
            "__________________________________________________________________________________________________\n",
            "block13_sepconv1 (SeparableConv (None, 19, 19, 728)  536536      block13_sepconv1_act[0][0]       \n",
            "__________________________________________________________________________________________________\n",
            "block13_sepconv1_bn (BatchNorma (None, 19, 19, 728)  2912        block13_sepconv1[0][0]           \n",
            "__________________________________________________________________________________________________\n",
            "block13_sepconv2_act (Activatio (None, 19, 19, 728)  0           block13_sepconv1_bn[0][0]        \n",
            "__________________________________________________________________________________________________\n",
            "block13_sepconv2 (SeparableConv (None, 19, 19, 1024) 752024      block13_sepconv2_act[0][0]       \n",
            "__________________________________________________________________________________________________\n",
            "block13_sepconv2_bn (BatchNorma (None, 19, 19, 1024) 4096        block13_sepconv2[0][0]           \n",
            "__________________________________________________________________________________________________\n",
            "conv2d_19 (Conv2D)              (None, 10, 10, 1024) 745472      add_58[0][0]                     \n",
            "__________________________________________________________________________________________________\n",
            "block13_pool (MaxPooling2D)     (None, 10, 10, 1024) 0           block13_sepconv2_bn[0][0]        \n",
            "__________________________________________________________________________________________________\n",
            "batch_normalization_19 (BatchNo (None, 10, 10, 1024) 4096        conv2d_19[0][0]                  \n",
            "__________________________________________________________________________________________________\n",
            "add_59 (Add)                    (None, 10, 10, 1024) 0           block13_pool[0][0]               \n",
            "                                                                 batch_normalization_19[0][0]     \n",
            "__________________________________________________________________________________________________\n",
            "block14_sepconv1 (SeparableConv (None, 10, 10, 1536) 1582080     add_59[0][0]                     \n",
            "__________________________________________________________________________________________________\n",
            "block14_sepconv1_bn (BatchNorma (None, 10, 10, 1536) 6144        block14_sepconv1[0][0]           \n",
            "__________________________________________________________________________________________________\n",
            "block14_sepconv1_act (Activatio (None, 10, 10, 1536) 0           block14_sepconv1_bn[0][0]        \n",
            "__________________________________________________________________________________________________\n",
            "block14_sepconv2 (SeparableConv (None, 10, 10, 2048) 3159552     block14_sepconv1_act[0][0]       \n",
            "__________________________________________________________________________________________________\n",
            "block14_sepconv2_bn (BatchNorma (None, 10, 10, 2048) 8192        block14_sepconv2[0][0]           \n",
            "__________________________________________________________________________________________________\n",
            "block14_sepconv2_act (Activatio (None, 10, 10, 2048) 0           block14_sepconv2_bn[0][0]        \n",
            "==================================================================================================\n",
            "Total params: 20,861,480\n",
            "Trainable params: 20,806,952\n",
            "Non-trainable params: 54,528\n",
            "__________________________________________________________________________________________________\n"
          ],
          "name": "stdout"
        }
      ]
    },
    {
      "cell_type": "code",
      "metadata": {
        "id": "XYiloL1iuocA",
        "colab_type": "code",
        "outputId": "71b546ba-3aa4-48e8-f93b-c7b56aca0c3f",
        "colab": {
          "base_uri": "https://localhost:8080/",
          "height": 52
        }
      },
      "source": [
        "train_datagen = ImageDataGenerator(rescale=1./255)\n",
        "\n",
        "# Note that the validation data should not be augmented!\n",
        "test_datagen = ImageDataGenerator(rescale=1./255)\n",
        "\n",
        "train_generator = train_datagen.flow_from_directory(\n",
        "        # This is the target directory\n",
        "        train_dir,\n",
        "        # All images will be resized to 150x150\n",
        "        target_size=(299, 299),\n",
        "        batch_size=16,\n",
        "        class_mode='categorical')\n",
        "\n",
        "validation_generator = test_datagen.flow_from_directory(\n",
        "        validation_dir,\n",
        "        target_size=(299, 299),\n",
        "        batch_size=16, shuffle=False,class_mode='categorical')"
      ],
      "execution_count": 0,
      "outputs": [
        {
          "output_type": "stream",
          "text": [
            "Found 61488 images belonging to 120 classes.\n",
            "Found 20622 images belonging to 120 classes.\n"
          ],
          "name": "stdout"
        }
      ]
    },
    {
      "cell_type": "code",
      "metadata": {
        "id": "arVDVeoiFMR7",
        "colab_type": "code",
        "outputId": "710d5d1f-d5aa-4815-bbc1-8cf6f52b8c74",
        "colab": {
          "base_uri": "https://localhost:8080/",
          "height": 301
        }
      },
      "source": [
        "xception_model = Sequential()\n",
        "xception_model.add(xception_base)\n",
        "xception_model.add(GlobalAveragePooling2D())\n",
        "xception_model.add(Dense(512, activation='relu'))\n",
        "xception_model.add(Dense(120, activation='softmax'))\n",
        "xception_model.compile(loss='categorical_crossentropy',\n",
        "                       optimizer='adam',metrics=['accuracy'])\n",
        "xception_model.summary()"
      ],
      "execution_count": 0,
      "outputs": [
        {
          "output_type": "stream",
          "text": [
            "Model: \"sequential_2\"\n",
            "_________________________________________________________________\n",
            "Layer (type)                 Output Shape              Param #   \n",
            "=================================================================\n",
            "xception (Model)             (None, 10, 10, 2048)      20861480  \n",
            "_________________________________________________________________\n",
            "global_average_pooling2d_6 ( (None, 2048)              0         \n",
            "_________________________________________________________________\n",
            "dense_9 (Dense)              (None, 512)               1049088   \n",
            "_________________________________________________________________\n",
            "dense_10 (Dense)             (None, 120)               61560     \n",
            "=================================================================\n",
            "Total params: 21,972,128\n",
            "Trainable params: 21,917,600\n",
            "Non-trainable params: 54,528\n",
            "_________________________________________________________________\n"
          ],
          "name": "stdout"
        }
      ]
    },
    {
      "cell_type": "code",
      "metadata": {
        "colab_type": "code",
        "outputId": "06fb72dc-ffbc-4795-b926-a081f741ec9a",
        "id": "rHq7KSUehvGc",
        "colab": {
          "base_uri": "https://localhost:8080/",
          "height": 446
        }
      },
      "source": [
        "xception_history = xception_model.fit_generator(train_generator,\n",
        "                   steps_per_epoch = int(nb_train_samples / 64),  \n",
        "                   epochs = 10,  # change this for better results\n",
        "                   validation_data = validation_generator,\n",
        "                   validation_steps = int(nb_validation_samples / 64),\n",
        "                   verbose = 1)"
      ],
      "execution_count": 0,
      "outputs": [
        {
          "output_type": "stream",
          "text": [
            "WARNING:tensorflow:From <ipython-input-19-092687ae37d4>:6: Model.fit_generator (from tensorflow.python.keras.engine.training) is deprecated and will be removed in a future version.\n",
            "Instructions for updating:\n",
            "Please use Model.fit, which supports generators.\n",
            "Epoch 1/10\n",
            "960/960 [==============================] - 379s 395ms/step - loss: 0.9349 - accuracy: 0.7504 - val_loss: 0.5057 - val_accuracy: 0.8513\n",
            "Epoch 2/10\n",
            "960/960 [==============================] - 378s 394ms/step - loss: 0.1613 - accuracy: 0.9504 - val_loss: 0.3339 - val_accuracy: 0.9266\n",
            "Epoch 3/10\n",
            "960/960 [==============================] - 378s 394ms/step - loss: 0.1124 - accuracy: 0.9674 - val_loss: 0.1735 - val_accuracy: 0.9561\n",
            "Epoch 4/10\n",
            "960/960 [==============================] - 378s 394ms/step - loss: 0.1093 - accuracy: 0.9691 - val_loss: 0.0653 - val_accuracy: 0.9821\n",
            "Epoch 5/10\n",
            "960/960 [==============================] - 379s 394ms/step - loss: 0.0756 - accuracy: 0.9786 - val_loss: 0.1298 - val_accuracy: 0.9641\n",
            "Epoch 6/10\n",
            "960/960 [==============================] - 378s 393ms/step - loss: 0.0764 - accuracy: 0.9788 - val_loss: 0.2240 - val_accuracy: 0.9596\n",
            "Epoch 7/10\n",
            "960/960 [==============================] - 379s 395ms/step - loss: 0.0680 - accuracy: 0.9823 - val_loss: 0.4884 - val_accuracy: 0.8909\n",
            "Epoch 8/10\n",
            "960/960 [==============================] - 378s 394ms/step - loss: 0.0565 - accuracy: 0.9848 - val_loss: 0.1676 - val_accuracy: 0.9604\n",
            "Epoch 9/10\n",
            "960/960 [==============================] - 378s 394ms/step - loss: 0.0418 - accuracy: 0.9891 - val_loss: 0.0838 - val_accuracy: 0.9783\n",
            "Epoch 10/10\n",
            "960/960 [==============================] - 379s 395ms/step - loss: 0.0616 - accuracy: 0.9827 - val_loss: 0.0400 - val_accuracy: 0.9872\n"
          ],
          "name": "stdout"
        }
      ]
    },
    {
      "cell_type": "code",
      "metadata": {
        "colab_type": "code",
        "outputId": "6951fd51-cb75-4d72-bd83-f8c7e4f99208",
        "id": "wAswImxrgRYE",
        "colab": {
          "base_uri": "https://localhost:8080/",
          "height": 297
        }
      },
      "source": [
        "metrics_plot(xception_history)"
      ],
      "execution_count": 0,
      "outputs": [
        {
          "output_type": "execute_result",
          "data": {
            "image/png": "[encoded data removed]",
            "text/plain": [
              "<Figure size 432x288 with 2 Axes>"
            ]
          },
          "metadata": {
            "tags": []
          },
          "execution_count": 20
        }
      ]
    },
    {
      "cell_type": "code",
      "metadata": {
        "id": "BrYDOx-Nd8x3",
        "colab_type": "code",
        "outputId": "d2c27464-56ed-4034-d0c0-bfd3a52b535c",
        "colab": {
          "base_uri": "https://localhost:8080/",
          "height": 35
        }
      },
      "source": [
        "result = xception_model.evaluate_generator(validation_generator, steps=1288)\n",
        "print(\"Test-set classification accuracy: {0:.2%}\".format(result[1]))"
      ],
      "execution_count": 0,
      "outputs": [
        {
          "output_type": "stream",
          "text": [
            "Test-set classification accuracy: 98.01%\n"
          ],
          "name": "stdout"
        }
      ]
    }
  ]
}